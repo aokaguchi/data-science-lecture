{
 "cells": [
  {
   "cell_type": "code",
   "execution_count": 1,
   "metadata": {},
   "outputs": [],
   "source": [
    "import numpy as np\n",
    "import pandas as pd\n",
    "import seaborn as sns\n",
    "from IPython.display import display\n",
    "pd.set_option('max_rows', 5)"
   ]
  },
  {
   "cell_type": "markdown",
   "metadata": {},
   "source": [
    "## ベクトルと行列\n",
    "---\n",
    "数値の並んだ一次元配列のことをベクトルといい、横方向に並んだものを横ベクトルや行ベクトル、縦方向に並んだものを縦ベクトルや列ベクトルと呼ぶ。\n",
    "\n",
    "横ベクトル・行ベクトル $( 1 \\ 2 \\ \\dots \\ n)$\n",
    "\n",
    "縦ベクトル・列ベクトル $\n",
    "\\left(\n",
    "    \\begin{array}{ c }\n",
    "        1\\\\\n",
    "        2\\\\\n",
    "        \\vdots \\\\\n",
    "        n\n",
    "    \\end{array}\n",
    "\\right)\n",
    "$\n",
    "\n",
    "数値の並んだ二次元配列のことを行列と呼ぶ。行列の各行・各列は同じ要素数でなければならず、空きがあってはいけない。\n",
    "\n",
    "行列 $\n",
    "\\left(\n",
    "    \\begin{array}{ c c c }\n",
    "        1 & 2 & 3\\\\\n",
    "        4 & 5 & 6\n",
    "    \\end{array}\n",
    "\\right)\n",
    "$"
   ]
  },
  {
   "cell_type": "markdown",
   "metadata": {},
   "source": [
    "## ベクトルと行列の転置\n",
    "---\n",
    "横ベクトルを縦ベクトル、またはその逆にしたり、行列の行と列を入れ替える操作を転置といい、以下のように表す。\n",
    "\n",
    "$\n",
    "( 1,2,3)^{T} =\\begin{pmatrix}\n",
    "    1\\\\\n",
    "    2\\\\\n",
    "    3\n",
    "\\end{pmatrix} ,\\begin{pmatrix}\n",
    "    1 & 2 & 3\\\\\n",
    "    4 & 5 & 6\n",
    "\\end{pmatrix}^{T} =\\begin{pmatrix}\n",
    "    1 & 4\\\\\n",
    "    2 & 5\\\\\n",
    "    3 & 6\n",
    "\\end{pmatrix}\n",
    "$"
   ]
  },
  {
   "cell_type": "markdown",
   "metadata": {},
   "source": [
    "### Pythonでの転置の実行方法\n",
    "---\n",
    "ベクトルは基本的に横ベクトルとして扱われるが、ブロードキャストという機能によって自動的に縦ベクトルに変換されたかのような挙動をすることもある。明示的に縦ベクトルにするには列数1の行列に`reshape`する。  \n",
    "行列は`T`属性で転置行列が得られる。"
   ]
  },
  {
   "cell_type": "code",
   "execution_count": 2,
   "metadata": {},
   "outputs": [
    {
     "data": {
      "text/plain": [
       "array([[0, 1, 2],\n",
       "       [3, 4, 5]])"
      ]
     },
     "execution_count": 2,
     "metadata": {},
     "output_type": "execute_result"
    }
   ],
   "source": [
    "a = np.arange(6).reshape((2, 3))\n",
    "a"
   ]
  },
  {
   "cell_type": "code",
   "execution_count": 3,
   "metadata": {},
   "outputs": [
    {
     "data": {
      "text/plain": [
       "array([[0, 3],\n",
       "       [1, 4],\n",
       "       [2, 5]])"
      ]
     },
     "execution_count": 3,
     "metadata": {},
     "output_type": "execute_result"
    }
   ],
   "source": [
    "a.T"
   ]
  },
  {
   "cell_type": "markdown",
   "metadata": {},
   "source": [
    "## ベクトルの内積\n",
    "---\n",
    "ベクトルや行列を掛ける場合、一定のルールがある。(内積と呼ばれる)\n",
    "\n",
    "ベクトル同士を掛ける場合は、次元(要素数)が同じでなければならない。演算子も $\\times$ ではなく $\\cdot$ を使用する。\n",
    "\n",
    "$\\boldsymbol{a}=( a_{1} \\ a_{2} \\ \\dots \\ a_{n}) ,\\ \\boldsymbol{b}=( b_{1} \\ b_{2} \\ \\dots \\ b_{n})$ の場合、 $\\boldsymbol{a}\\cdot \\boldsymbol{b}=a_{1} b_{1} +a_{2} b_{2} +\\dots +a_{n} b_{n}$\n",
    "\n",
    "具体例：$( 1\\ 2\\ 3) \\cdot ( 4\\ 5\\ 6) =1\\times 4+2\\times 5+3\\times 6=32$"
   ]
  },
  {
   "cell_type": "code",
   "execution_count": 4,
   "metadata": {},
   "outputs": [],
   "source": [
    "a = np.array([1, 2, 3])\n",
    "b = np.array([4, 5, 6])"
   ]
  },
  {
   "cell_type": "markdown",
   "metadata": {},
   "source": [
    "###### 練習問題\n",
    "ベクトル $a$ と $b$ の内積を求める。 (NumPy の関数は使用しない)"
   ]
  },
  {
   "cell_type": "code",
   "execution_count": null,
   "metadata": {
    "solution2": "hidden",
    "solution2_first": true
   },
   "outputs": [],
   "source": []
  },
  {
   "cell_type": "code",
   "execution_count": 5,
   "metadata": {
    "solution2": "hidden"
   },
   "outputs": [
    {
     "data": {
      "text/plain": [
       "32"
      ]
     },
     "execution_count": 5,
     "metadata": {},
     "output_type": "execute_result"
    }
   ],
   "source": [
    "sum([i * j for i, j in zip(a, b)])"
   ]
  },
  {
   "cell_type": "markdown",
   "metadata": {},
   "source": [
    "### Pythonでの内積の実行方法\n",
    "---\n",
    "`numpy.dot`または`@`演算子を使用する。"
   ]
  },
  {
   "cell_type": "code",
   "execution_count": 6,
   "metadata": {},
   "outputs": [],
   "source": [
    "np.dot??"
   ]
  },
  {
   "cell_type": "code",
   "execution_count": 7,
   "metadata": {},
   "outputs": [
    {
     "data": {
      "text/plain": [
       "32"
      ]
     },
     "execution_count": 7,
     "metadata": {},
     "output_type": "execute_result"
    }
   ],
   "source": [
    "a.dot(b)"
   ]
  },
  {
   "cell_type": "code",
   "execution_count": 8,
   "metadata": {},
   "outputs": [
    {
     "data": {
      "text/plain": [
       "32"
      ]
     },
     "execution_count": 8,
     "metadata": {},
     "output_type": "execute_result"
    }
   ],
   "source": [
    "np.dot(a, b)"
   ]
  },
  {
   "cell_type": "code",
   "execution_count": 9,
   "metadata": {},
   "outputs": [
    {
     "data": {
      "text/plain": [
       "32"
      ]
     },
     "execution_count": 9,
     "metadata": {},
     "output_type": "execute_result"
    }
   ],
   "source": [
    "a @ b"
   ]
  },
  {
   "cell_type": "markdown",
   "metadata": {},
   "source": [
    "### ベクトルの内積の幾何的意味\n",
    "---\n",
    "$n$ 個の要素を持つベクトル $\\boldsymbol{a}=( a_{1} \\ a_{2} \\ \\dots \\ a_{n})$ は $n$ 次元空間内の座標と見ることができる。  \n",
    "このベクトル $\\boldsymbol{a}$ の長さ $\\| \\boldsymbol{a} \\|$ は\n",
    "\n",
    "$\n",
    "\\displaystyle \\| x\\| =\\sqrt{\n",
    "    x^{2}_{1} +x^{2}_{2} +\\cdots +x^{2}_{n}\n",
    "} =\\sqrt{\n",
    "    \\sum ^{n}_{i=1} x^{2}_{i}\n",
    "}\n",
    "$\n",
    "\n",
    "となる。\n",
    "\n",
    "このとき 2 つのベクトル $\\boldsymbol{a}, \\boldsymbol{b}$ の内積 $\\boldsymbol{a}\\cdot \\boldsymbol{b}$ は、2 つのベクトルの長さと間の角度 $\\theta$ を用いて $\\boldsymbol{a} \\cdot \\boldsymbol{b} =\\| \\boldsymbol{a} \\| \\ \\| \\boldsymbol{b} \\| \\ cos\\theta $ と表せる。  \n",
    "したがって、 $\\boldsymbol{a}$ と $\\boldsymbol{b}$ が直交する ($90^\\circ$ で交わる) 場合は内積が $0$ になり、内積が $0$ のときは $\\boldsymbol{a}$ と $\\boldsymbol{b}$ が直交する。 ($\\| \\boldsymbol{a} \\| \\neq 0,\\| \\boldsymbol{b} \\| \\neq 0$ のとき)"
   ]
  },
  {
   "cell_type": "markdown",
   "metadata": {},
   "source": [
    "#### 導出\n",
    "---\n",
    "原点 $O$ と 2 点 $A,B$ で作る三角形 $OAB$ を考える。 $OA$ と $OB$ の間の角度を $\\theta$ とすると  \n",
    "余弦定理より\n",
    "\n",
    "$\n",
    "\\begin{aligned}\n",
    "    AB^{2} & =OA^{2} +OB^{2} -2OA\\cdot OB\\cdot cos\\theta \\\\\n",
    "    \\| \\boldsymbol{b} -\\boldsymbol{a} \\| ^{2} & =\\| \\boldsymbol{a} \\| ^{2} +\\| \\boldsymbol{b} \\| ^{2} -2\\| \\boldsymbol{a} \\| \\ \\| \\boldsymbol{b} \\| \\ cos\\theta \\\\\n",
    "    ( b_{1} -a_{1})^{2} +( b_{2} -a_{2})^{2} +\\cdots +( b_{n} -a_{n})^{2} & =a^{2}_{1} +a^{2}_{2} +\\cdots +a^{2}_{n} +b^{2}_{1} +b^{2}_{2} +\\cdots +b^{2}_{n} -2\\| \\boldsymbol{a} \\| \\ \\| \\boldsymbol{b} \\| \\ cos\\theta \n",
    "\\end{aligned}\n",
    "$\n",
    "\n",
    "これを整理して、\n",
    "\n",
    "$\n",
    "\\begin{aligned}\n",
    "    \\| \\boldsymbol{a} \\| \\ \\| \\boldsymbol{b} \\| \\ cos\\theta  & =a_{1} b_{1} +a_{2} b_{2} +\\cdots +a_{n} b_{n}\\\\\n",
    "     & =\\boldsymbol{a} \\cdot \\boldsymbol{b}\n",
    "\\end{aligned}\n",
    "$"
   ]
  },
  {
   "cell_type": "markdown",
   "metadata": {},
   "source": [
    "## 行列の内積\n",
    "---\n",
    "行列同士の内積は掛ける順番にも意味がある。行列の内積の場合には、行ベクトル $\\times$ 列ベクトルの順番でかけると計算結果は、それぞれのベクトルの同じ順番の要素同士を掛けたものの和になる。そして、以下のように計算する。\n",
    "\n",
    "$i$ 行 $j$ 列の行列 $A$ と$j$ 行 $k$ 列の行列 $B$ を考える。\n",
    "\n",
    "$\n",
    "A=\\left(\n",
    "    \\begin{array}{ c c c c }\n",
    "        a_{11} & a_{12} & \\dots  & a_{1j}\\\\\n",
    "        a_{21} & a_{22} & \\dots  & a_{2j}\\\\\n",
    "        \\vdots  & \\vdots  & \\ddots  & \\vdots \\\\\n",
    "        a_{i1} & a_{i2} & \\dots  & a_{ij}\n",
    "    \\end{array}\n",
    "\\right) ,\\ B=\\left(\n",
    "    \\begin{array}{ c c c c }\n",
    "        b_{11} & b_{12} & \\dots  & b_{1k}\\\\\n",
    "        b_{21} & b_{22} & \\dots  & b_{2k}\\\\\n",
    "        \\vdots  & \\vdots  & \\ddots  & \\vdots \\\\\n",
    "        b_{j1} & b_{j2} & \\dots  & b_{jk}\n",
    "    \\end{array}\n",
    "\\right)\n",
    "$\n",
    "\n",
    "$A$ ・ $B$ をそれぞれ行ベクトル $a$ ・列ベクトル $b$ の集合とする。\n",
    "\n",
    "$\n",
    "\\begin{cases}\n",
    "    a_{1} =( a_{11} \\ a_{12} \\ \\dots \\ a_{1j})\\\\\n",
    "    a_{2} =( a_{21} \\ a_{22} \\ \\dots \\ a_{2j})\\\\\n",
    "    \\vdots \\\\\n",
    "    a_{i} =( a_{i1} \\ a_{i2} \\ \\dots \\ a_{ij})\n",
    "\\end{cases} ,\\ A=\\left(\n",
    "    \\begin{array}{ c }\n",
    "        a_{1}\\\\\n",
    "        a_{2}\\\\\n",
    "        \\vdots \\\\\n",
    "        a_{i}\n",
    "    \\end{array}\n",
    "\\right)\n",
    "$\n",
    "\n",
    "$\n",
    "b_{1} =\\left(\n",
    "    \\begin{array}{ c }\n",
    "        b_{11}\\\\\n",
    "        b_{21}\\\\\n",
    "        \\vdots \\\\\n",
    "        b_{j1}\n",
    "    \\end{array}\n",
    "\\right) ,\\ b_{2} =\\left(\n",
    "    \\begin{array}{ c }\n",
    "        b_{12}\\\\\n",
    "        b_{22}\\\\\n",
    "        \\vdots \\\\\n",
    "        b_{j2}\n",
    "    \\end{array}\n",
    "\\right) ,\\ \\dots ,\\ b_{k} =\\left(\n",
    "    \\begin{array}{ c }\n",
    "        b_{1k}\\\\\n",
    "        b_{2k}\\\\\n",
    "        \\vdots \\\\\n",
    "        b_{jk}\n",
    "    \\end{array}\n",
    "\\right) ,\\ B=( b_{1} \\ b_{2} \\ \\dots \\ b_{k})\n",
    "$\n",
    "\n",
    "内積 $AB$ は以下で求められる。\n",
    "\n",
    "$\n",
    "AB=\\left(\n",
    "    \\begin{array}{ c c c c }\n",
    "        a_{1} b_{1} & a_{1} b_{2} & \\dots  & a_{1} b_{k}\\\\\n",
    "        a_{2} b_{1} & a_{2} b_{2} & \\dots  & a_{2} b_{k}\\\\\n",
    "        \\vdots  & \\vdots  & \\ddots  & \\vdots \\\\\n",
    "        a_{i} b_{1} & a_{i} b_{2} & \\dots  & a_{i} b_{k}\n",
    "    \\end{array}\n",
    "\\right)\n",
    "$\n",
    "\n",
    "具体例：\n",
    "\n",
    "$\n",
    "\\begin{align}\n",
    "    \\left(\n",
    "        \\begin{array}{ c c }\n",
    "            1 & 2\\\\\n",
    "            3 & 4\\\\\n",
    "            5 & 6\n",
    "        \\end{array}\n",
    "    \\right) \\cdot \\left(\n",
    "        \\begin{array}{ c c c c }\n",
    "            7 & 8 & 9 & 10\\\\\n",
    "            11 & 12 & 13 & 14\n",
    "        \\end{array}\n",
    "    \\right) & =\\left(\n",
    "        \\begin{array}{ c }\n",
    "            ( 1\\ 2)\\\\\n",
    "            ( 3\\ 4)\\\\\n",
    "            ( 5\\ 6)\n",
    "        \\end{array}\n",
    "    \\right) \\cdot \\left(\n",
    "        \\begin{array}{ c c c c }\n",
    "            \\left(\n",
    "                \\begin{array}{ c }\n",
    "                    7\\\\\n",
    "                    11\n",
    "                \\end{array}\n",
    "            \\right) & \\left(\n",
    "                \\begin{array}{ c }\n",
    "                    8\\\\\n",
    "                    12\n",
    "                \\end{array}\n",
    "            \\right) & \\left(\n",
    "                \\begin{array}{ c }\n",
    "                    9\\\\\n",
    "                    13\n",
    "                \\end{array}\n",
    "            \\right) & \\left(\n",
    "                \\begin{array}{ c }\n",
    "                    10\\\\\n",
    "                    14\n",
    "                \\end{array}\n",
    "            \\right)\n",
    "        \\end{array}\n",
    "    \\right)\\\\\n",
    "     & =\\left(\n",
    "         \\begin{array}{ c c c c }\n",
    "            \\left(\n",
    "                \\begin{array}{ c c }\n",
    "                    1 & 2\n",
    "                \\end{array}\n",
    "            \\right) \\cdot \\left(\n",
    "                \\begin{array}{ c }\n",
    "                    7\\\\\n",
    "                    11\n",
    "                \\end{array}\n",
    "            \\right) & \\left(\n",
    "                \\begin{array}{ c c }\n",
    "                    1 & 2\n",
    "                \\end{array}\n",
    "            \\right) \\cdot \\left(\n",
    "                \\begin{array}{ c }\n",
    "                    8\\\\\n",
    "                    12\n",
    "                \\end{array}\n",
    "            \\right) & \\left(\n",
    "                \\begin{array}{ c c }\n",
    "                    1 & 2\n",
    "                \\end{array}\n",
    "            \\right) \\cdot \\left(\n",
    "                \\begin{array}{ c }\n",
    "                    9\\\\\n",
    "                    13\n",
    "                \\end{array}\n",
    "            \\right) & \\left(\n",
    "                \\begin{array}{ c c }\n",
    "                    1 & 2\n",
    "                \\end{array}\n",
    "            \\right) \\cdot \\left(\n",
    "                \\begin{array}{ c }\n",
    "                    10\\\\\n",
    "                    14\n",
    "                \\end{array}\n",
    "            \\right)\\\\\n",
    "            \\left(\n",
    "                \\begin{array}{ c c }\n",
    "                    3 & 4\n",
    "                \\end{array}\n",
    "            \\right) \\cdot \\left(\n",
    "                \\begin{array}{ c }\n",
    "                    7\\\\\n",
    "                    11\n",
    "                \\end{array}\n",
    "            \\right) & \\left(\n",
    "                \\begin{array}{ c c }\n",
    "                    3 & 4\n",
    "                \\end{array}\n",
    "            \\right) \\cdot \\left(\n",
    "                \\begin{array}{ c }\n",
    "                    8\\\\\n",
    "                    12\n",
    "                \\end{array}\n",
    "            \\right) & \\left(\n",
    "                \\begin{array}{ c c }\n",
    "                    3 & 4\n",
    "                \\end{array}\n",
    "            \\right) \\cdot \\left(\n",
    "                \\begin{array}{ c }\n",
    "                    9\\\\\n",
    "                    13\n",
    "                \\end{array}\n",
    "            \\right) & \\left(\n",
    "                \\begin{array}{ c c }\n",
    "                    3 & 4\n",
    "                \\end{array}\n",
    "            \\right) \\cdot \\left(\n",
    "                \\begin{array}{ c }\n",
    "                    10\\\\\n",
    "                    14\n",
    "                \\end{array}\n",
    "            \\right)\\\\\n",
    "            \\left(\n",
    "                \\begin{array}{ c c }\n",
    "                    5 & 6\n",
    "                \\end{array}\n",
    "            \\right) \\cdot \\left(\n",
    "                \\begin{array}{ c }\n",
    "                    7\\\\\n",
    "                    11\n",
    "                \\end{array}\n",
    "            \\right) & \\left(\n",
    "                \\begin{array}{ c c }\n",
    "                    5 & 6\n",
    "                \\end{array}\n",
    "            \\right) \\cdot \\left(\n",
    "                \\begin{array}{ c }\n",
    "                    8\\\\\n",
    "                    12\n",
    "                \\end{array}\n",
    "            \\right) & \\left(\n",
    "                \\begin{array}{ c c }\n",
    "                    5 & 6\n",
    "                \\end{array}\n",
    "            \\right) \\cdot \\left(\n",
    "                \\begin{array}{ c }\n",
    "                    9\\\\\n",
    "                    13\n",
    "                \\end{array}\n",
    "            \\right) & \\left(\n",
    "                \\begin{array}{ c c }\n",
    "                    5 & 6\n",
    "                \\end{array}\n",
    "            \\right) \\cdot \\left(\n",
    "                \\begin{array}{ c }\n",
    "                    10\\\\\n",
    "                    14\n",
    "                \\end{array}\n",
    "            \\right)\n",
    "        \\end{array}\n",
    "    \\right)\\\\\n",
    "     & =\\left(\n",
    "         \\begin{array}{ c c c c }\n",
    "            1\\times 7+2\\times 11 & 1\\times 8+2\\times 12 & 1\\times 9+2\\times 13 & 1\\times 10+2\\times 14\\\\\n",
    "            3\\times 7+4\\times 11 & 3\\times 8+4\\times 12 & 3\\times 9+4\\times 13 & 3\\times 10+4\\times 14\\\\\n",
    "            5\\times 7+6\\times 11 & 5\\times 8+6\\times 12 & 5\\times 9+6\\times 13 & 5\\times 10+6\\times 14\n",
    "        \\end{array}\n",
    "    \\right)\\\\\n",
    "     & =\\left(\n",
    "         \\begin{array}{ c c c c }\n",
    "            29 & 32 & 35 & 38\\\\\n",
    "            65 & 72 & 79 & 86\\\\\n",
    "            101 & 112 & 123 & 134\n",
    "        \\end{array}\n",
    "    \\right)\n",
    "\\end{align}\n",
    "$"
   ]
  },
  {
   "cell_type": "markdown",
   "metadata": {},
   "source": [
    "###### 練習問題\n",
    "\n",
    "行列 $A$ ・ $B$ の内積 $AB$ を求める関数`dot`を完成させる。"
   ]
  },
  {
   "cell_type": "code",
   "execution_count": 10,
   "metadata": {
    "hide_input": true
   },
   "outputs": [
    {
     "name": "stdout",
     "output_type": "stream",
     "text": [
      "A=\n",
      "[[4 7 6 5]\n",
      " [9 2 8 7]\n",
      " [9 1 6 1]]\n",
      "B=\n",
      "[[7 3 1 6 3]\n",
      " [7 4 8 1 1]\n",
      " [4 3 4 2 4]\n",
      " [2 4 8 2 8]]\n"
     ]
    }
   ],
   "source": [
    "i, j, k = 3, 4, 5\n",
    "np.random.seed(1234)\n",
    "A = np.random.choice(range(1, 10), size=(i, j))\n",
    "B = np.random.choice(range(1, 10), size=(j, k))\n",
    "print('A=')\n",
    "print(A)\n",
    "print('B=')\n",
    "print(B)"
   ]
  },
  {
   "cell_type": "code",
   "execution_count": 11,
   "metadata": {
    "solution2": "hidden",
    "solution2_first": true
   },
   "outputs": [],
   "source": [
    "def dot(A, B):\n",
    "    # 出力のサイズを決定する\n",
    "    out_size = (__, __)\n",
    "\n",
    "    AB = np.empty(out_size)\n",
    "    for (r, c), _ in np.ndenumerate(AB):\n",
    "        # 出力のr行c列の要素を計算して代入する\n",
    "        AB[r, c] = __\n",
    "    return AB"
   ]
  },
  {
   "cell_type": "code",
   "execution_count": 12,
   "metadata": {
    "solution2": "hidden"
   },
   "outputs": [],
   "source": [
    "def dot(A, B):\n",
    "    # 出力のサイズを決定する\n",
    "    out_size = (A.shape[0], B.shape[1])\n",
    "\n",
    "    AB = np.empty(out_size)\n",
    "    for (r, c), _ in np.ndenumerate(AB):\n",
    "        # 出力のr行c列の要素を計算して代入する\n",
    "        AB[r, c] = np.dot(A[r], B[:, c])\n",
    "    return AB"
   ]
  },
  {
   "cell_type": "code",
   "execution_count": 13,
   "metadata": {},
   "outputs": [
    {
     "data": {
      "text/plain": [
       "array([[111.,  78., 124.,  53.,  83.],\n",
       "       [123.,  87., 113.,  86., 117.],\n",
       "       [ 96.,  53.,  49.,  69.,  60.]])"
      ]
     },
     "execution_count": 13,
     "metadata": {},
     "output_type": "execute_result"
    }
   ],
   "source": [
    "dot(A, B)"
   ]
  },
  {
   "cell_type": "markdown",
   "metadata": {},
   "source": [
    "###### 練習問題\n",
    "\n",
    "全ての要素が 1 である 5x3 行列と 3x2 行列の内積を求める ([100 numpy exercises #24](https://github.com/rougier/numpy-100/blob/master/100_Numpy_exercises.ipynb))"
   ]
  },
  {
   "cell_type": "code",
   "execution_count": null,
   "metadata": {},
   "outputs": [],
   "source": []
  },
  {
   "cell_type": "markdown",
   "metadata": {},
   "source": [
    "ベクトルと行列をかける場合は、行ベクトルを行数1の行列、列ベクトルを列数1の行列と考えて、行列同士の場合と同じように行う。\n",
    "\n",
    "慣れないうちは行列のサイズのみに注目し、 $( M\\times K) \\cdot ( K\\times N) =( M\\times N)$ のように内側の数を揃えることと、出力のサイズが外側をつなげたものになることだけ覚えておくとよい。"
   ]
  },
  {
   "cell_type": "markdown",
   "metadata": {},
   "source": [
    "### Pythonでの実行方法\n",
    "---\n",
    "ベクトルの内積と同様に`numpy.dot`や`@`を使用する。"
   ]
  },
  {
   "cell_type": "code",
   "execution_count": 14,
   "metadata": {},
   "outputs": [
    {
     "data": {
      "text/plain": [
       "array([[111,  78, 124,  53,  83],\n",
       "       [123,  87, 113,  86, 117],\n",
       "       [ 96,  53,  49,  69,  60]])"
      ]
     },
     "execution_count": 14,
     "metadata": {},
     "output_type": "execute_result"
    }
   ],
   "source": [
    "A.dot(B)"
   ]
  },
  {
   "cell_type": "code",
   "execution_count": 15,
   "metadata": {},
   "outputs": [
    {
     "data": {
      "text/plain": [
       "array([[111,  78, 124,  53,  83],\n",
       "       [123,  87, 113,  86, 117],\n",
       "       [ 96,  53,  49,  69,  60]])"
      ]
     },
     "execution_count": 15,
     "metadata": {},
     "output_type": "execute_result"
    }
   ],
   "source": [
    "np.dot(A, B)"
   ]
  },
  {
   "cell_type": "code",
   "execution_count": 16,
   "metadata": {},
   "outputs": [
    {
     "data": {
      "text/plain": [
       "array([[111,  78, 124,  53,  83],\n",
       "       [123,  87, 113,  86, 117],\n",
       "       [ 96,  53,  49,  69,  60]])"
      ]
     },
     "execution_count": 16,
     "metadata": {},
     "output_type": "execute_result"
    }
   ],
   "source": [
    "A @ B"
   ]
  },
  {
   "cell_type": "code",
   "execution_count": 17,
   "metadata": {},
   "outputs": [
    {
     "data": {
      "text/plain": [
       "array([49, 14, 40, 22])"
      ]
     },
     "execution_count": 17,
     "metadata": {},
     "output_type": "execute_result"
    }
   ],
   "source": [
    "a.dot(A)"
   ]
  },
  {
   "cell_type": "markdown",
   "metadata": {},
   "source": [
    "### 数式での表記とプログラミングの違い\n",
    "---\n",
    "以降の数式ではベクトルは縦ベクトル (列ベクトル) を基本とする。例えば、ある人の身長・体重などを表すデータ (ベクトル) は $\n",
    "\\begin{pmatrix}\n",
    "    170cm\\\\\n",
    "    60kg\\\\\n",
    "    \\vdots \n",
    "\\end{pmatrix}\n",
    "$ となる。複数人のデータの場合は $\n",
    "\\begin{pmatrix}\n",
    "    170cm & 180cm & \\cdots \\\\\n",
    "    60kg & 70kg & \\cdots \\\\\n",
    "    \\vdots  & \\vdots  & \\ddots \n",
    "\\end{pmatrix}\n",
    "$ のようになる。これは実際に扱うデータやプログラムとは行と列が逆になっているので、特に内積の計算で数式とプログラムの記述の違いに早く慣れておく。  \n",
    "慣れないうちは、上にあるように行列の形を考える。"
   ]
  },
  {
   "cell_type": "markdown",
   "metadata": {},
   "source": [
    "###### 練習問題\n",
    "\n",
    "`iris`データセットを $X$ (4行×サンプルサイズ) とした場合に $y=aX$ ($y$ は2×サンプルサイズの行列) となるような $a$ の形を考える。  \n",
    "実際にプログラムで $a$ (中身は任意) を作成し、実行する。ただし、結果はサンプルサイズ×2列の行列になるようにする。"
   ]
  },
  {
   "cell_type": "code",
   "execution_count": 18,
   "metadata": {
    "hide_input": true
   },
   "outputs": [
    {
     "name": "stdout",
     "output_type": "stream",
     "text": [
      "iris\n"
     ]
    },
    {
     "data": {
      "text/html": [
       "<div>\n",
       "<style scoped>\n",
       "    .dataframe tbody tr th:only-of-type {\n",
       "        vertical-align: middle;\n",
       "    }\n",
       "\n",
       "    .dataframe tbody tr th {\n",
       "        vertical-align: top;\n",
       "    }\n",
       "\n",
       "    .dataframe thead th {\n",
       "        text-align: right;\n",
       "    }\n",
       "</style>\n",
       "<table border=\"1\" class=\"dataframe\">\n",
       "  <thead>\n",
       "    <tr style=\"text-align: right;\">\n",
       "      <th></th>\n",
       "      <th>sepal_length</th>\n",
       "      <th>sepal_width</th>\n",
       "      <th>petal_length</th>\n",
       "      <th>petal_width</th>\n",
       "    </tr>\n",
       "  </thead>\n",
       "  <tbody>\n",
       "    <tr>\n",
       "      <th>0</th>\n",
       "      <td>5.1</td>\n",
       "      <td>3.5</td>\n",
       "      <td>1.4</td>\n",
       "      <td>0.2</td>\n",
       "    </tr>\n",
       "    <tr>\n",
       "      <th>1</th>\n",
       "      <td>4.9</td>\n",
       "      <td>3.0</td>\n",
       "      <td>1.4</td>\n",
       "      <td>0.2</td>\n",
       "    </tr>\n",
       "    <tr>\n",
       "      <th>...</th>\n",
       "      <td>...</td>\n",
       "      <td>...</td>\n",
       "      <td>...</td>\n",
       "      <td>...</td>\n",
       "    </tr>\n",
       "    <tr>\n",
       "      <th>148</th>\n",
       "      <td>6.2</td>\n",
       "      <td>3.4</td>\n",
       "      <td>5.4</td>\n",
       "      <td>2.3</td>\n",
       "    </tr>\n",
       "    <tr>\n",
       "      <th>149</th>\n",
       "      <td>5.9</td>\n",
       "      <td>3.0</td>\n",
       "      <td>5.1</td>\n",
       "      <td>1.8</td>\n",
       "    </tr>\n",
       "  </tbody>\n",
       "</table>\n",
       "<p>150 rows × 4 columns</p>\n",
       "</div>"
      ],
      "text/plain": [
       "     sepal_length  sepal_width  petal_length  petal_width\n",
       "0             5.1          3.5           1.4          0.2\n",
       "1             4.9          3.0           1.4          0.2\n",
       "..            ...          ...           ...          ...\n",
       "148           6.2          3.4           5.4          2.3\n",
       "149           5.9          3.0           5.1          1.8\n",
       "\n",
       "[150 rows x 4 columns]"
      ]
     },
     "metadata": {},
     "output_type": "display_data"
    }
   ],
   "source": [
    "iris = sns.load_dataset('iris').iloc[:, :4]\n",
    "print('iris')\n",
    "display(iris)"
   ]
  },
  {
   "cell_type": "code",
   "execution_count": null,
   "metadata": {
    "solution2": "hidden",
    "solution2_first": true
   },
   "outputs": [],
   "source": []
  },
  {
   "cell_type": "markdown",
   "metadata": {
    "solution2": "hidden"
   },
   "source": [
    "$a$ は2×4の行列。"
   ]
  },
  {
   "cell_type": "code",
   "execution_count": 19,
   "metadata": {
    "solution2": "hidden"
   },
   "outputs": [
    {
     "data": {
      "text/html": [
       "<div>\n",
       "<style scoped>\n",
       "    .dataframe tbody tr th:only-of-type {\n",
       "        vertical-align: middle;\n",
       "    }\n",
       "\n",
       "    .dataframe tbody tr th {\n",
       "        vertical-align: top;\n",
       "    }\n",
       "\n",
       "    .dataframe thead th {\n",
       "        text-align: right;\n",
       "    }\n",
       "</style>\n",
       "<table border=\"1\" class=\"dataframe\">\n",
       "  <thead>\n",
       "    <tr style=\"text-align: right;\">\n",
       "      <th></th>\n",
       "      <th>0</th>\n",
       "      <th>1</th>\n",
       "    </tr>\n",
       "  </thead>\n",
       "  <tbody>\n",
       "    <tr>\n",
       "      <th>0</th>\n",
       "      <td>6.9</td>\n",
       "      <td>47.7</td>\n",
       "    </tr>\n",
       "    <tr>\n",
       "      <th>1</th>\n",
       "      <td>6.4</td>\n",
       "      <td>44.4</td>\n",
       "    </tr>\n",
       "    <tr>\n",
       "      <th>...</th>\n",
       "      <td>...</td>\n",
       "      <td>...</td>\n",
       "    </tr>\n",
       "    <tr>\n",
       "      <th>148</th>\n",
       "      <td>21.1</td>\n",
       "      <td>90.3</td>\n",
       "    </tr>\n",
       "    <tr>\n",
       "      <th>149</th>\n",
       "      <td>18.6</td>\n",
       "      <td>81.8</td>\n",
       "    </tr>\n",
       "  </tbody>\n",
       "</table>\n",
       "<p>150 rows × 2 columns</p>\n",
       "</div>"
      ],
      "text/plain": [
       "        0     1\n",
       "0     6.9  47.7\n",
       "1     6.4  44.4\n",
       "..    ...   ...\n",
       "148  21.1  90.3\n",
       "149  18.6  81.8\n",
       "\n",
       "[150 rows x 2 columns]"
      ]
     },
     "execution_count": 19,
     "metadata": {},
     "output_type": "execute_result"
    }
   ],
   "source": [
    "a = np.arange(8).reshape((2, 4))\n",
    "iris.dot(a.T)"
   ]
  }
 ],
 "metadata": {
  "kernelspec": {
   "display_name": "Python 3",
   "language": "python",
   "name": "python3"
  },
  "language_info": {
   "codemirror_mode": {
    "name": "ipython",
    "version": 3
   },
   "file_extension": ".py",
   "mimetype": "text/x-python",
   "name": "python",
   "nbconvert_exporter": "python",
   "pygments_lexer": "ipython3",
   "version": "3.6.8"
  },
  "toc": {
   "base_numbering": 1,
   "nav_menu": {},
   "number_sections": true,
   "sideBar": true,
   "skip_h1_title": true,
   "title_cell": "Table of Contents",
   "title_sidebar": "Contents",
   "toc_cell": false,
   "toc_position": {},
   "toc_section_display": true,
   "toc_window_display": true
  },
  "varInspector": {
   "cols": {
    "lenName": 16,
    "lenType": 16,
    "lenVar": 40
   },
   "kernels_config": {
    "python": {
     "delete_cmd_postfix": "",
     "delete_cmd_prefix": "del ",
     "library": "var_list.py",
     "varRefreshCmd": "print(var_dic_list())"
    },
    "r": {
     "delete_cmd_postfix": ") ",
     "delete_cmd_prefix": "rm(",
     "library": "var_list.r",
     "varRefreshCmd": "cat(var_dic_list()) "
    }
   },
   "types_to_exclude": [
    "module",
    "function",
    "builtin_function_or_method",
    "instance",
    "_Feature"
   ],
   "window_display": false
  }
 },
 "nbformat": 4,
 "nbformat_minor": 2
}
