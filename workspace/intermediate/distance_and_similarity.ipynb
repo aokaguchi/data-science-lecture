{
 "cells": [
  {
   "cell_type": "code",
   "execution_count": 1,
   "metadata": {},
   "outputs": [],
   "source": [
    "import numpy as np\n",
    "from scipy.spatial.distance import euclidean, cityblock, cosine\n",
    "from sklearn.metrics.pairwise import paired_euclidean_distances, paired_manhattan_distances, cosine_similarity\n",
    "%matplotlib inline"
   ]
  },
  {
   "cell_type": "markdown",
   "metadata": {},
   "source": [
    "## ユークリッド距離\n",
    "---\n",
    "一般的な距離。  \n",
    "2 点 $A=( a_{1} ,a_{2} ,\\dotsc ,a_{n}) ,B( b_{1} ,b_{2} ,\\dotsc ,b_{n})$ 間の距離は $\\displaystyle d=\\sqrt{\\sum ^{n}_{i=1}( a_{i} -b_{i})^{2}}$ で表される。"
   ]
  },
  {
   "cell_type": "code",
   "execution_count": 2,
   "metadata": {
    "hide_input": true
   },
   "outputs": [
    {
     "data": {
      "image/png": "[encoded data removed]",
      "text/plain": [
       "<Figure size 288x288 with 1 Axes>"
      ]
     },
     "metadata": {
      "needs_background": "light"
     },
     "output_type": "display_data"
    }
   ],
   "source": [
    "from helpers.distance_and_similarity import euclidean_distance\n",
    "euclidean_distance.show()"
   ]
  },
  {
   "cell_type": "markdown",
   "metadata": {},
   "source": [
    "### Pythonでのユークリッド距離の求め方\n",
    "---\n",
    "`scipy.spatial.distance.euclidean`または`sklearn.metrics.pairwise.paired_euclidean_distances`を使用する。`paired_euclidean_distances`は入力に行列を想定しているので、ベクトル同士の距離の場合は $1\\times 要素数$ の形にしてから実行する。"
   ]
  },
  {
   "cell_type": "code",
   "execution_count": 3,
   "metadata": {
    "hide_input": true
   },
   "outputs": [
    {
     "name": "stdout",
     "output_type": "stream",
     "text": [
      "a=[0.57455835 1.86632631 1.31318322]\n",
      "b=[8.92679292 8.89987904 6.36296303]\n"
     ]
    }
   ],
   "source": [
    "np.random.seed(1234)\n",
    "a = np.random.uniform(0, 3, 3)\n",
    "b = np.random.uniform(5, 10, 3)\n",
    "print(f'a={a}')\n",
    "print(f'b={b}')"
   ]
  },
  {
   "cell_type": "code",
   "execution_count": 4,
   "metadata": {},
   "outputs": [],
   "source": [
    "euc = np.sqrt(np.sum((a - b)**2))"
   ]
  },
  {
   "cell_type": "code",
   "execution_count": 5,
   "metadata": {},
   "outputs": [],
   "source": [
    "euclidean??"
   ]
  },
  {
   "cell_type": "code",
   "execution_count": 6,
   "metadata": {},
   "outputs": [
    {
     "data": {
      "text/plain": [
       "True"
      ]
     },
     "execution_count": 6,
     "metadata": {},
     "output_type": "execute_result"
    }
   ],
   "source": [
    "np.isclose(euc, euclidean(a, b))"
   ]
  },
  {
   "cell_type": "code",
   "execution_count": 7,
   "metadata": {},
   "outputs": [],
   "source": [
    "paired_euclidean_distances??"
   ]
  },
  {
   "cell_type": "code",
   "execution_count": 8,
   "metadata": {},
   "outputs": [
    {
     "data": {
      "text/plain": [
       "array([ True])"
      ]
     },
     "execution_count": 8,
     "metadata": {},
     "output_type": "execute_result"
    }
   ],
   "source": [
    "np.isclose(euc,\n",
    "           paired_euclidean_distances(a.reshape((1, -1)), b.reshape((1, -1))))"
   ]
  },
  {
   "cell_type": "markdown",
   "metadata": {},
   "source": [
    "## マンハッタン距離\n",
    "---\n",
    "碁盤状の道をたどる場合の距離。  \n",
    "2 点 $A=( a_{1} ,a_{2} ,\\dotsc ,a_{n}) ,B( b_{1} ,b_{2} ,\\dotsc ,b_{n})$ 間の距離は $\\displaystyle d=\\sum ^{n}_{i=1} |a_{i} -b_{i} |$ で表される。"
   ]
  },
  {
   "cell_type": "code",
   "execution_count": 9,
   "metadata": {
    "hide_input": true
   },
   "outputs": [
    {
     "data": {
      "image/png": "[encoded data removed]",
      "text/plain": [
       "<Figure size 288x288 with 1 Axes>"
      ]
     },
     "metadata": {
      "needs_background": "light"
     },
     "output_type": "display_data"
    }
   ],
   "source": [
    "from helpers.distance_and_similarity import manhattan_distance\n",
    "manhattan_distance.show()"
   ]
  },
  {
   "cell_type": "markdown",
   "metadata": {},
   "source": [
    "### Pythonでのマンハッタン距離の求め方\n",
    "---\n",
    "`scipy.spatial.distance.cityblock`または`sklearn.metrics.pairwise.paired_manhattan_distances`を使用する。`paired_manhattan_distances`は入力に行列を想定しているので、ベクトル同士の距離の場合は $1\\times 要素数$ の形にしてから実行する。"
   ]
  },
  {
   "cell_type": "code",
   "execution_count": 10,
   "metadata": {},
   "outputs": [],
   "source": [
    "man = np.abs(a - b).sum()"
   ]
  },
  {
   "cell_type": "code",
   "execution_count": 11,
   "metadata": {},
   "outputs": [],
   "source": [
    "cityblock??"
   ]
  },
  {
   "cell_type": "code",
   "execution_count": 12,
   "metadata": {},
   "outputs": [
    {
     "data": {
      "text/plain": [
       "True"
      ]
     },
     "execution_count": 12,
     "metadata": {},
     "output_type": "execute_result"
    }
   ],
   "source": [
    "np.isclose(man, cityblock(a, b))"
   ]
  },
  {
   "cell_type": "code",
   "execution_count": 13,
   "metadata": {},
   "outputs": [],
   "source": [
    "paired_manhattan_distances??"
   ]
  },
  {
   "cell_type": "code",
   "execution_count": 14,
   "metadata": {},
   "outputs": [
    {
     "data": {
      "text/plain": [
       "array([ True])"
      ]
     },
     "execution_count": 14,
     "metadata": {},
     "output_type": "execute_result"
    }
   ],
   "source": [
    "np.isclose(man,\n",
    "           paired_manhattan_distances(a.reshape((1, -1)), b.reshape((1, -1))))"
   ]
  },
  {
   "cell_type": "markdown",
   "metadata": {},
   "source": [
    "## コサイン類似度\n",
    "---\n",
    "2 つのベクトルの間の角度のコサインで、両ベクトルの類似度を表す。  \n",
    "$\n",
    "\\displaystyle \\begin{aligned}\n",
    "    cos\\theta  & =\\frac\n",
    "        {a\\cdot b}\n",
    "        {\\| a\\| \\ \\| b\\| }\n",
    "    \\\\\n",
    "     & =\\frac\n",
    "         {\\displaystyle \\sum ^{n}_{i=1} a_{i} b_{i}}\n",
    "         {\\sqrt{\n",
    "             \\displaystyle \\sum ^{n}_{i=1} a^{2}_{i}\n",
    "         }\\sqrt{\n",
    "             \\displaystyle \\sum ^{n}_{i=1} b^{2}_{i}\n",
    "         }}\n",
    "\\end{aligned}\n",
    "$  \n",
    "で表される。"
   ]
  },
  {
   "cell_type": "code",
   "execution_count": 15,
   "metadata": {
    "hide_input": true
   },
   "outputs": [
    {
     "data": {
      "image/png": "[encoded data removed]",
      "text/plain": [
       "<Figure size 288x288 with 1 Axes>"
      ]
     },
     "metadata": {
      "needs_background": "light"
     },
     "output_type": "display_data"
    }
   ],
   "source": [
    "from helpers.distance_and_similarity import cos_similarity\n",
    "cos_similarity.show()"
   ]
  },
  {
   "cell_type": "markdown",
   "metadata": {},
   "source": [
    "### Pythonでのコサイン類似度の求め方\n",
    "---\n",
    "`scipy.spatial.distance.cosine`が $1-コサイン類似度$ なのでこれを利用するか、`sklearn.metrics.pairwise.cosine_similarity`を使用する。`cosine_similarity`は入力に行列を想定しているので、ベクトル同士の場合は $1\\times 要素数$ の形にしてから実行する。"
   ]
  },
  {
   "cell_type": "code",
   "execution_count": 16,
   "metadata": {},
   "outputs": [],
   "source": [
    "cos = a.dot(b) / np.sqrt(np.sum(a**2)) / np.sqrt(np.sum(b**2))"
   ]
  },
  {
   "cell_type": "code",
   "execution_count": 17,
   "metadata": {},
   "outputs": [],
   "source": [
    "cosine??"
   ]
  },
  {
   "cell_type": "code",
   "execution_count": 18,
   "metadata": {},
   "outputs": [
    {
     "data": {
      "text/plain": [
       "True"
      ]
     },
     "execution_count": 18,
     "metadata": {},
     "output_type": "execute_result"
    }
   ],
   "source": [
    "np.isclose(cos, 1 - cosine(a, b))"
   ]
  },
  {
   "cell_type": "code",
   "execution_count": 19,
   "metadata": {},
   "outputs": [],
   "source": [
    "cosine_similarity??"
   ]
  },
  {
   "cell_type": "code",
   "execution_count": 20,
   "metadata": {},
   "outputs": [
    {
     "data": {
      "text/plain": [
       "array([[ True]])"
      ]
     },
     "execution_count": 20,
     "metadata": {},
     "output_type": "execute_result"
    }
   ],
   "source": [
    "np.isclose(cos, cosine_similarity(a.reshape((1, -1)), b.reshape((1, -1))))"
   ]
  },
  {
   "cell_type": "markdown",
   "metadata": {},
   "source": [
    "## その他の距離・類似度\n",
    "---\n",
    "マハラノビス距離やジャッカード係数などがあるが、必要なところで随時扱う。"
   ]
  }
 ],
 "metadata": {
  "kernelspec": {
   "display_name": "Python 3",
   "language": "python",
   "name": "python3"
  },
  "language_info": {
   "codemirror_mode": {
    "name": "ipython",
    "version": 3
   },
   "file_extension": ".py",
   "mimetype": "text/x-python",
   "name": "python",
   "nbconvert_exporter": "python",
   "pygments_lexer": "ipython3",
   "version": "3.6.8"
  },
  "toc": {
   "base_numbering": 1,
   "nav_menu": {},
   "number_sections": true,
   "sideBar": true,
   "skip_h1_title": true,
   "title_cell": "Table of Contents",
   "title_sidebar": "Contents",
   "toc_cell": false,
   "toc_position": {},
   "toc_section_display": true,
   "toc_window_display": true
  },
  "varInspector": {
   "cols": {
    "lenName": 16,
    "lenType": 16,
    "lenVar": 40
   },
   "kernels_config": {
    "python": {
     "delete_cmd_postfix": "",
     "delete_cmd_prefix": "del ",
     "library": "var_list.py",
     "varRefreshCmd": "print(var_dic_list())"
    },
    "r": {
     "delete_cmd_postfix": ") ",
     "delete_cmd_prefix": "rm(",
     "library": "var_list.r",
     "varRefreshCmd": "cat(var_dic_list()) "
    }
   },
   "types_to_exclude": [
    "module",
    "function",
    "builtin_function_or_method",
    "instance",
    "_Feature"
   ],
   "window_display": false
  }
 },
 "nbformat": 4,
 "nbformat_minor": 2
}
