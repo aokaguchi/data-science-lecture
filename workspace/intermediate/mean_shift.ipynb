{
 "cells": [
  {
   "cell_type": "code",
   "execution_count": 1,
   "metadata": {},
   "outputs": [],
   "source": [
    "%matplotlib inline"
   ]
  },
  {
   "cell_type": "markdown",
   "metadata": {},
   "source": [
    "## Mean Shiftの仕組み\n",
    "---\n",
    "特徴空間で、指定した距離内の密度が最大化するようにクラスタ中心を決める手法。\n",
    "1. 初期のクラスタ中心を選ぶ\n",
    " - 全てのサンプルをクラスタ中心に選ぶ\n",
    " - 格子状に領域を分割し、一定以上のサンプル数が含まれる区間をクラスタ中心に選ぶ\n",
    "1. 指定された距離内のデータ点を元に密度が最大になる方向 (指定範囲内のサンプル重心 = 平均) にクラスタ中心を移動する\n",
    "1. 収束するまで 2 を繰り返す\n",
    "1. 指定された距離内にクラスタ中心が複数ある場合には密度の高いものを残す"
   ]
  },
  {
   "cell_type": "code",
   "execution_count": 2,
   "metadata": {
    "hide_input": true
   },
   "outputs": [
    {
     "data": {
      "application/vnd.jupyter.widget-view+json": {
       "model_id": "7fb19126dfb24966847915162560694d",
       "version_major": 2,
       "version_minor": 0
      },
      "text/plain": [
       "Play(value=0, interval=1000, max=225)"
      ]
     },
     "metadata": {},
     "output_type": "display_data"
    },
    {
     "data": {
      "application/vnd.jupyter.widget-view+json": {
       "model_id": "5ce78a34a10440048fc7ac44a38b926c",
       "version_major": 2,
       "version_minor": 0
      },
      "text/plain": [
       "Output()"
      ]
     },
     "metadata": {},
     "output_type": "display_data"
    }
   ],
   "source": [
    "from helpers.mean_shift import algorithm\n",
    "algorithm.show()"
   ]
  },
  {
   "cell_type": "markdown",
   "metadata": {},
   "source": [
    "## 注意点\n",
    "---\n",
    "Mean Shift は、指定した距離内にサンプルがあるか確かめるため、クラスタ中心から全サンプルまでの距離を計算する必要があるため、サンプルサイズに対してスケールしにくい。"
   ]
  }
 ],
 "metadata": {
  "kernelspec": {
   "display_name": "Python 3",
   "language": "python",
   "name": "python3"
  },
  "toc": {
   "base_numbering": 1,
   "nav_menu": {},
   "number_sections": true,
   "sideBar": true,
   "skip_h1_title": true,
   "title_cell": "Table of Contents",
   "title_sidebar": "Contents",
   "toc_cell": false,
   "toc_position": {},
   "toc_section_display": true,
   "toc_window_display": true
  },
  "varInspector": {
   "cols": {
    "lenName": 16,
    "lenType": 16,
    "lenVar": 40
   },
   "kernels_config": {
    "python": {
     "delete_cmd_postfix": "",
     "delete_cmd_prefix": "del ",
     "library": "var_list.py",
     "varRefreshCmd": "print(var_dic_list())"
    },
    "r": {
     "delete_cmd_postfix": ") ",
     "delete_cmd_prefix": "rm(",
     "library": "var_list.r",
     "varRefreshCmd": "cat(var_dic_list()) "
    }
   },
   "types_to_exclude": [
    "module",
    "function",
    "builtin_function_or_method",
    "instance",
    "_Feature"
   ],
   "window_display": false
  }
 },
 "nbformat": 4,
 "nbformat_minor": 2
}
