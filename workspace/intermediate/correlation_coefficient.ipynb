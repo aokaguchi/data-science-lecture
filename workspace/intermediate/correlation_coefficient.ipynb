{
 "cells": [
  {
   "cell_type": "markdown",
   "metadata": {},
   "source": [
    "## 相関係数の幾何的意味\n",
    "---\n",
    "サンプルサイズ $n$ の 2 変数データ、 $x_{1} ,x_{2} ,\\dotsc ,x_{n}$ ・ $y_{1} ,y_{2} ,\\dotsc ,y_{n}$ について、ベクトル $\\boldsymbol{x},\\boldsymbol{y}$ をそれぞれの偏差として以下のように定義する。\n",
    "\n",
    "$\n",
    "\\begin{cases}\n",
    "    \\boldsymbol{x} =\\left( x_{1} -\\overline{x} ,x_{2} -\\overline{x} ,\\dotsc ,x_{n} -\\overline{x}\\right)\\\\\n",
    "    \\boldsymbol{y} =\\left( y_{1} -\\overline{y} ,y_{2} -\\overline{y} ,\\dotsc ,y_{n} -\\overline{y}\\right)\n",
    "\\end{cases}\n",
    "$\n",
    "\n",
    "このとき、ベクトル $\\boldsymbol{x},\\boldsymbol{y}$ のなす角度を $\\theta$ とすると、相関係数 $r_{xy}=cos\\theta$ となる。  \n",
    "つまり、相関係数は 2 つのベクトルがどの程度同じ方向を向いているかを表す。"
   ]
  },
  {
   "cell_type": "markdown",
   "metadata": {},
   "source": [
    "### 導出\n",
    "---\n",
    "内積の定義 $\\displaystyle \\boldsymbol{a} \\cdot \\boldsymbol{b} =\\sum ^{n}_{i=1} a_{i} b_{i} =\\| \\boldsymbol{a} \\| \\ \\| \\boldsymbol{b} \\| \\ cos\\theta $ より\n",
    "\n",
    "$\n",
    "\\displaystyle \\sum ^{n}_{i=1}\\left( x_{i} -\\overline{x}\\right)\\left( y_{i} -\\overline{y}\\right) =\\sqrt{\\sum ^{n}_{i=1}\\left( x_{i} -\\overline{x}\\right)^{2}}\\sqrt{\\sum ^{n}_{i=1}\\left( y_{i} -\\overline{y}\\right)^{2}} cos\\theta\n",
    "$\n",
    "\n",
    "標準偏差 $S( x)$ ・共分散 $Cov( x,y)$ の定義\n",
    "\n",
    "$\n",
    "\\begin{cases}\n",
    "    S( x) & =\\sqrt{\n",
    "        \\displaystyle \\frac\n",
    "            {1}\n",
    "            {n}\n",
    "        \\sum ^{n}_{i=1}\\left( x_{i} -\\overline{x}\\right)^{2}\n",
    "    }\\\\\n",
    "    Cov( x,y) & =\\displaystyle \\frac\n",
    "        {1}\n",
    "        {n}\n",
    "    \\sum ^{n}_{i=1}\\left( x_{i} -\\overline{x}\\right)\\left( y_{i} -\\overline{y}\\right)\n",
    "\\end{cases}\n",
    "$\n",
    "\n",
    "より\n",
    "\n",
    "$\n",
    "\\displaystyle \\begin{aligned}\n",
    "    nCov( x,y) & =\\sqrt{n} S( x)\\sqrt{n} S( y) cos\\theta \\\\\n",
    "    cos\\theta  & =\\frac\n",
    "        {Cov( x,y)}\n",
    "        {S( x) S( y)}\n",
    "\\end{aligned}\n",
    "$\n",
    "\n",
    "相関係数 $\n",
    "\\displaystyle r_{xy} =\\frac\n",
    "    {Cov( x,y)}\n",
    "    {S( x) S( y)}\n",
    "$ より $r_{xy}=cos\\theta$"
   ]
  }
 ],
 "metadata": {
  "kernelspec": {
   "display_name": "Python 3",
   "language": "python",
   "name": "python3"
  },
  "language_info": {
   "codemirror_mode": {
    "name": "ipython",
    "version": 3
   },
   "file_extension": ".py",
   "mimetype": "text/x-python",
   "name": "python",
   "nbconvert_exporter": "python",
   "pygments_lexer": "ipython3",
   "version": "3.6.8"
  },
  "toc": {
   "base_numbering": 1,
   "nav_menu": {},
   "number_sections": true,
   "sideBar": true,
   "skip_h1_title": true,
   "title_cell": "Table of Contents",
   "title_sidebar": "Contents",
   "toc_cell": false,
   "toc_position": {},
   "toc_section_display": true,
   "toc_window_display": true
  },
  "varInspector": {
   "cols": {
    "lenName": 16,
    "lenType": 16,
    "lenVar": 40
   },
   "kernels_config": {
    "python": {
     "delete_cmd_postfix": "",
     "delete_cmd_prefix": "del ",
     "library": "var_list.py",
     "varRefreshCmd": "print(var_dic_list())"
    },
    "r": {
     "delete_cmd_postfix": ") ",
     "delete_cmd_prefix": "rm(",
     "library": "var_list.r",
     "varRefreshCmd": "cat(var_dic_list()) "
    }
   },
   "types_to_exclude": [
    "module",
    "function",
    "builtin_function_or_method",
    "instance",
    "_Feature"
   ],
   "window_display": false
  }
 },
 "nbformat": 4,
 "nbformat_minor": 2
}
