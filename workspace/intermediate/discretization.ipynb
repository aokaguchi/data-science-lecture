{
 "cells": [
  {
   "cell_type": "code",
   "execution_count": 1,
   "metadata": {},
   "outputs": [],
   "source": [
    "import numpy as np\n",
    "import pandas as pd\n",
    "from sklearn.preprocessing import KBinsDiscretizer\n",
    "import seaborn as sns\n",
    "from IPython.display import display\n",
    "pd.set_option('max_rows', 5)"
   ]
  },
  {
   "cell_type": "markdown",
   "metadata": {},
   "source": [
    "## 離散化の効果\n",
    "---\n",
    "連続変数をカテゴリ変数化することを離散化という。  \n",
    "連続変数のほうが情報量が変数に含まれる情報は多いが、例えば年齢を 10 歳ごとの階級に分割するなどしたほうがデータの理解がしやすかったり、単純な線形でない関係を捉えられたりするため、離散化することがある。"
   ]
  },
  {
   "cell_type": "markdown",
   "metadata": {},
   "source": [
    "## 等間隔に分割\n",
    "---\n",
    "年齢を 10 歳ごとの階級に分割するなど、各階級の幅が等しくなるように分割。"
   ]
  },
  {
   "cell_type": "markdown",
   "metadata": {},
   "source": [
    "### Pythonでの等間隔階級への分割の実行方法\n",
    "---\n",
    "`pandas.cut`または`sklearn.preprocessing.KBinsDiscretizer`を使用する。"
   ]
  },
  {
   "cell_type": "code",
   "execution_count": 2,
   "metadata": {
    "hide_input": true
   },
   "outputs": [
    {
     "name": "stdout",
     "output_type": "stream",
     "text": [
      "fare\n"
     ]
    },
    {
     "data": {
      "text/plain": [
       "0       7.2500\n",
       "1      71.2833\n",
       "        ...   \n",
       "889    30.0000\n",
       "890     7.7500\n",
       "Name: fare, Length: 891, dtype: float64"
      ]
     },
     "metadata": {},
     "output_type": "display_data"
    }
   ],
   "source": [
    "fare = sns.load_dataset('titanic')['fare']\n",
    "print('fare')\n",
    "display(fare)"
   ]
  },
  {
   "cell_type": "code",
   "execution_count": 3,
   "metadata": {},
   "outputs": [],
   "source": [
    "pd.cut??"
   ]
  },
  {
   "cell_type": "code",
   "execution_count": 4,
   "metadata": {},
   "outputs": [
    {
     "data": {
      "text/plain": [
       "0      (-0.512, 102.466]\n",
       "1      (-0.512, 102.466]\n",
       "             ...        \n",
       "889    (-0.512, 102.466]\n",
       "890    (-0.512, 102.466]\n",
       "Name: fare, Length: 891, dtype: category\n",
       "Categories (5, interval[float64]): [(-0.512, 102.466] < (102.466, 204.932] < (204.932, 307.398] < (307.398, 409.863] < (409.863, 512.329]]"
      ]
     },
     "execution_count": 4,
     "metadata": {},
     "output_type": "execute_result"
    }
   ],
   "source": [
    "pd.cut(fare, 5)"
   ]
  },
  {
   "cell_type": "code",
   "execution_count": 5,
   "metadata": {},
   "outputs": [],
   "source": [
    "KBinsDiscretizer??"
   ]
  },
  {
   "cell_type": "code",
   "execution_count": 6,
   "metadata": {},
   "outputs": [
    {
     "name": "stdout",
     "output_type": "stream",
     "text": [
      "interval: ['0.0~102.46584', '102.46584~204.93168', '204.93168~307.39752', '307.39752~409.86336', '409.86336~512.3292']\n"
     ]
    },
    {
     "data": {
      "text/plain": [
       "0      0.0\n",
       "1      0.0\n",
       "      ... \n",
       "889    0.0\n",
       "890    0.0\n",
       "Length: 891, dtype: float64"
      ]
     },
     "metadata": {},
     "output_type": "display_data"
    }
   ],
   "source": [
    "range_transformer = KBinsDiscretizer(\n",
    "    n_bins=5, encode='ordinal', strategy='uniform')\n",
    "range_transformer.fit(fare.values.reshape((-1, 1)))\n",
    "edges = range_transformer.bin_edges_[0]\n",
    "interval = [f'{edges[i]}~{edges[i+1]}' for i in range(edges.size - 1)]\n",
    "print(f'interval: {interval}')\n",
    "display(\n",
    "    pd.Series(\n",
    "        range_transformer.transform(fare.values.reshape((-1, 1))).ravel()))"
   ]
  },
  {
   "cell_type": "markdown",
   "metadata": {},
   "source": [
    "###### 練習問題\n",
    "\n",
    "`age`データセットを 0 歳 ~ 80 歳 まで 10 歳刻みで離散化する。 (`sklearn.preprocessing.KBinsDiscretizer`は間隔を指定できないので、`pandas.cut`を使用する)"
   ]
  },
  {
   "cell_type": "code",
   "execution_count": 7,
   "metadata": {
    "hide_input": true
   },
   "outputs": [
    {
     "name": "stdout",
     "output_type": "stream",
     "text": [
      "age\n"
     ]
    },
    {
     "data": {
      "text/plain": [
       "0      22.0\n",
       "1      38.0\n",
       "       ... \n",
       "889    26.0\n",
       "890    32.0\n",
       "Name: age, Length: 891, dtype: float64"
      ]
     },
     "metadata": {},
     "output_type": "display_data"
    }
   ],
   "source": [
    "age = sns.load_dataset('titanic')['age']\n",
    "age.fillna(0.0, inplace=True)\n",
    "print('age')\n",
    "display(age)"
   ]
  },
  {
   "cell_type": "code",
   "execution_count": null,
   "metadata": {
    "solution2": "hidden",
    "solution2_first": true
   },
   "outputs": [],
   "source": []
  },
  {
   "cell_type": "code",
   "execution_count": 8,
   "metadata": {
    "solution2": "hidden"
   },
   "outputs": [
    {
     "data": {
      "text/plain": [
       "0      (20, 30]\n",
       "1      (30, 40]\n",
       "         ...   \n",
       "889    (20, 30]\n",
       "890    (30, 40]\n",
       "Name: age, Length: 891, dtype: category\n",
       "Categories (8, interval[int64]): [(0, 10] < (10, 20] < (20, 30] < (30, 40] < (40, 50] < (50, 60] < (60, 70] < (70, 80]]"
      ]
     },
     "execution_count": 8,
     "metadata": {},
     "output_type": "execute_result"
    }
   ],
   "source": [
    "pd.cut(age, bins=np.arange(0, 90, 10))"
   ]
  },
  {
   "cell_type": "markdown",
   "metadata": {},
   "source": [
    "## 頻度で分割\n",
    "---\n",
    "各階級に含まれるサンプルの数が等しくなるように分割。"
   ]
  },
  {
   "cell_type": "markdown",
   "metadata": {},
   "source": [
    "### Pythonでの等頻度階級への分割の実行方法\n",
    "---\n",
    "`pandas.qcut`または`sklearn.preprocessing.KBinsDiscretizer`を使用する。"
   ]
  },
  {
   "cell_type": "code",
   "execution_count": 9,
   "metadata": {},
   "outputs": [],
   "source": [
    "pd.qcut??"
   ]
  },
  {
   "cell_type": "code",
   "execution_count": 10,
   "metadata": {},
   "outputs": [
    {
     "data": {
      "text/plain": [
       "0       (-0.001, 7.91]\n",
       "1      (31.0, 512.329]\n",
       "            ...       \n",
       "889     (14.454, 31.0]\n",
       "890     (-0.001, 7.91]\n",
       "Name: fare, Length: 891, dtype: category\n",
       "Categories (4, interval[float64]): [(-0.001, 7.91] < (7.91, 14.454] < (14.454, 31.0] < (31.0, 512.329]]"
      ]
     },
     "execution_count": 10,
     "metadata": {},
     "output_type": "execute_result"
    }
   ],
   "source": [
    "# 四分位範囲で分割\n",
    "pd.qcut(fare, 4, duplicates='drop')"
   ]
  },
  {
   "cell_type": "code",
   "execution_count": 11,
   "metadata": {},
   "outputs": [],
   "source": [
    "KBinsDiscretizer??"
   ]
  },
  {
   "cell_type": "code",
   "execution_count": 12,
   "metadata": {},
   "outputs": [
    {
     "name": "stdout",
     "output_type": "stream",
     "text": [
      "interval: ['0.0~7.9104', '7.9104~14.4542', '14.4542~31.0', '31.0~512.3292']\n"
     ]
    },
    {
     "data": {
      "text/plain": [
       "0      0.0\n",
       "1      3.0\n",
       "      ... \n",
       "889    2.0\n",
       "890    0.0\n",
       "Length: 891, dtype: float64"
      ]
     },
     "metadata": {},
     "output_type": "display_data"
    }
   ],
   "source": [
    "quantile_transformer = KBinsDiscretizer(\n",
    "    n_bins=4, encode='ordinal', strategy='quantile')\n",
    "quantile_transformer.fit(fare.values.reshape((-1, 1)))\n",
    "edges = quantile_transformer.bin_edges_[0]\n",
    "interval = [f'{edges[i]}~{edges[i+1]}' for i in range(edges.size - 1)]\n",
    "print(f'interval: {interval}')\n",
    "display(\n",
    "    pd.Series(\n",
    "        quantile_transformer.transform(fare.values.reshape((-1, 1))).ravel()))"
   ]
  },
  {
   "cell_type": "markdown",
   "metadata": {},
   "source": [
    "###### 練習問題\n",
    "\n",
    "`age`データセットを四分位範囲で分割する。"
   ]
  },
  {
   "cell_type": "code",
   "execution_count": null,
   "metadata": {
    "solution2": "hidden",
    "solution2_first": true
   },
   "outputs": [],
   "source": []
  },
  {
   "cell_type": "code",
   "execution_count": 13,
   "metadata": {
    "solution2": "hidden"
   },
   "outputs": [
    {
     "data": {
      "text/plain": [
       "0       (6.0, 24.0]\n",
       "1      (35.0, 80.0]\n",
       "           ...     \n",
       "889    (24.0, 35.0]\n",
       "890    (24.0, 35.0]\n",
       "Name: age, Length: 891, dtype: category\n",
       "Categories (4, interval[float64]): [(-0.001, 6.0] < (6.0, 24.0] < (24.0, 35.0] < (35.0, 80.0]]"
      ]
     },
     "execution_count": 13,
     "metadata": {},
     "output_type": "execute_result"
    }
   ],
   "source": [
    "pd.qcut(age, 4)"
   ]
  },
  {
   "cell_type": "code",
   "execution_count": 14,
   "metadata": {
    "solution2": "hidden"
   },
   "outputs": [
    {
     "data": {
      "text/plain": [
       "0      1.0\n",
       "1      3.0\n",
       "      ... \n",
       "889    2.0\n",
       "890    2.0\n",
       "Length: 891, dtype: float64"
      ]
     },
     "execution_count": 14,
     "metadata": {},
     "output_type": "execute_result"
    }
   ],
   "source": [
    "pd.Series(\n",
    "    KBinsDiscretizer(n_bins=4, encode='ordinal',\n",
    "                     strategy='quantile').fit_transform(\n",
    "                         age.values.reshape((-1, 1))).ravel())"
   ]
  },
  {
   "cell_type": "markdown",
   "metadata": {},
   "source": [
    "## クラスタリングを利用して分割\n",
    "---\n",
    "対象の変数にクラスタリングを適用し、その結果を利用して分割。"
   ]
  },
  {
   "cell_type": "markdown",
   "metadata": {},
   "source": [
    "### Pythonでのクラスタリングを利用した分割の実行方法\n",
    "---\n",
    "`sklearn.preprocessing.KBinsDiscretizer`を使用する。 (使用されるクラスタリングは k-means)"
   ]
  },
  {
   "cell_type": "code",
   "execution_count": 15,
   "metadata": {},
   "outputs": [],
   "source": [
    "KBinsDiscretizer??"
   ]
  },
  {
   "cell_type": "code",
   "execution_count": 16,
   "metadata": {},
   "outputs": [
    {
     "name": "stdout",
     "output_type": "stream",
     "text": [
      "interval: ['0.0~94.9635102410501', '94.9635102410501~339.922139', '339.922139~512.3292']\n"
     ]
    },
    {
     "data": {
      "text/plain": [
       "0      0.0\n",
       "1      0.0\n",
       "      ... \n",
       "889    0.0\n",
       "890    0.0\n",
       "Length: 891, dtype: float64"
      ]
     },
     "metadata": {},
     "output_type": "display_data"
    }
   ],
   "source": [
    "cluster_transformer = KBinsDiscretizer(\n",
    "    n_bins=3, encode='ordinal', strategy='kmeans')\n",
    "cluster_transformer.fit(fare.values.reshape((-1, 1)))\n",
    "edges = cluster_transformer.bin_edges_[0]\n",
    "interval = [f'{edges[i]}~{edges[i+1]}' for i in range(edges.size - 1)]\n",
    "print(f'interval: {interval}')\n",
    "display(\n",
    "    pd.Series(\n",
    "        cluster_transformer.transform(fare.values.reshape((-1, 1))).ravel()))"
   ]
  },
  {
   "cell_type": "markdown",
   "metadata": {},
   "source": [
    "###### 練習問題\n",
    "\n",
    "`age`データセットを k-means クラスタリングで 3 分割する。"
   ]
  },
  {
   "cell_type": "code",
   "execution_count": null,
   "metadata": {
    "solution2": "hidden",
    "solution2_first": true
   },
   "outputs": [],
   "source": []
  },
  {
   "cell_type": "code",
   "execution_count": 17,
   "metadata": {
    "solution2": "hidden"
   },
   "outputs": [
    {
     "data": {
      "text/plain": [
       "0      1.0\n",
       "1      2.0\n",
       "      ... \n",
       "889    1.0\n",
       "890    1.0\n",
       "Length: 891, dtype: float64"
      ]
     },
     "execution_count": 17,
     "metadata": {},
     "output_type": "execute_result"
    }
   ],
   "source": [
    "pd.Series(\n",
    "    KBinsDiscretizer(n_bins=3, encode='ordinal',\n",
    "                     strategy='kmeans').fit_transform(\n",
    "                         age.values.reshape((-1, 1))).ravel())"
   ]
  }
 ],
 "metadata": {
  "kernelspec": {
   "display_name": "Python 3",
   "language": "python",
   "name": "python3"
  },
  "language_info": {
   "codemirror_mode": {
    "name": "ipython",
    "version": 3
   },
   "file_extension": ".py",
   "mimetype": "text/x-python",
   "name": "python",
   "nbconvert_exporter": "python",
   "pygments_lexer": "ipython3",
   "version": "3.6.8"
  },
  "toc": {
   "base_numbering": 1,
   "nav_menu": {},
   "number_sections": true,
   "sideBar": true,
   "skip_h1_title": true,
   "title_cell": "Table of Contents",
   "title_sidebar": "Contents",
   "toc_cell": false,
   "toc_position": {},
   "toc_section_display": true,
   "toc_window_display": true
  },
  "varInspector": {
   "cols": {
    "lenName": 16,
    "lenType": 16,
    "lenVar": 40
   },
   "kernels_config": {
    "python": {
     "delete_cmd_postfix": "",
     "delete_cmd_prefix": "del ",
     "library": "var_list.py",
     "varRefreshCmd": "print(var_dic_list())"
    },
    "r": {
     "delete_cmd_postfix": ") ",
     "delete_cmd_prefix": "rm(",
     "library": "var_list.r",
     "varRefreshCmd": "cat(var_dic_list()) "
    }
   },
   "types_to_exclude": [
    "module",
    "function",
    "builtin_function_or_method",
    "instance",
    "_Feature"
   ],
   "window_display": false
  }
 },
 "nbformat": 4,
 "nbformat_minor": 2
}
