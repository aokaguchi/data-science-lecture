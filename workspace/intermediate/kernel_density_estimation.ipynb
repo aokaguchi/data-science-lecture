{
 "cells": [
  {
   "cell_type": "code",
   "execution_count": 1,
   "metadata": {},
   "outputs": [],
   "source": [
    "import numpy as np\n",
    "from scipy import stats\n",
    "import pandas as pd\n",
    "import matplotlib.pyplot as plt\n",
    "import seaborn as sns\n",
    "from IPython.display import display\n",
    "pd.set_option('max_rows', 5)\n",
    "%matplotlib inline"
   ]
  },
  {
   "cell_type": "markdown",
   "metadata": {},
   "source": [
    "## ヒストグラムの問題点\n",
    "---\n",
    "分布が滑らかでなく、区間の分割方法によってグラフから受ける印象が大きく異なる。"
   ]
  },
  {
   "cell_type": "code",
   "execution_count": 2,
   "metadata": {
    "hide_input": true
   },
   "outputs": [
    {
     "data": {
      "image/png": "[encoded data removed]",
      "text/plain": [
       "<Figure size 576x288 with 2 Axes>"
      ]
     },
     "metadata": {},
     "output_type": "display_data"
    }
   ],
   "source": [
    "from helpers.kernel_density_estimation import histogram\n",
    "histogram.show()"
   ]
  },
  {
   "cell_type": "markdown",
   "metadata": {},
   "source": [
    "## カーネル密度推定 (kernel density estimation)\n",
    "---\n",
    "データ $( x_{1} ,x_{2} ,\\dotsc ,x_{n})$ の分布を滑らかな確率密度関数で表す。  \n",
    "この確率密度関数 $f(x)$ はカーネル関数 $K$ を用いて $\\displaystyle f( x) =\\frac{1}{nh}\\sum ^{n}_{i=1} K\\left(\\frac{x-x_{i}}{h}\\right)$ と表される。 ($h$ はバンド幅と呼ばれるパラメータ)  \n",
    "カーネル関数にはガウシアンカーネル (標準正規分布の確率密度関数と同じ) $\\displaystyle \\frac{1}{\\sqrt{2\\pi }} e^{-\\frac{x^{2}}{2}}$ を用いることが多い。\n",
    "\n",
    "直観的には $\\displaystyle \\sum ^{n}_{i=1} K\\left(\\frac{x-x_{i}}{h}\\right)$ の部分は各サンプルを中心とする確率分布の重ね合わせ、またはカーネル関数の畳み込み演算 (カーネル関数を順次スライドさせていったときの各サンプルに対応する確率密度の合計) と捉えられ、 $\\displaystyle \\frac{1}{nh}$ は全体の確率を $1$ にするための正規化定数と考えられる。"
   ]
  },
  {
   "cell_type": "code",
   "execution_count": 3,
   "metadata": {
    "hide_input": true
   },
   "outputs": [
    {
     "data": {
      "application/vnd.jupyter.widget-view+json": {
       "model_id": "f1215eff29b5475aadc2956051b955f1",
       "version_major": 2,
       "version_minor": 0
      },
      "text/plain": [
       "Play(value=1, interval=1000, max=6, min=1)"
      ]
     },
     "metadata": {},
     "output_type": "display_data"
    },
    {
     "data": {
      "application/vnd.jupyter.widget-view+json": {
       "model_id": "d7a2febb939e4e81b994ee640d047e88",
       "version_major": 2,
       "version_minor": 0
      },
      "text/plain": [
       "Output()"
      ]
     },
     "metadata": {},
     "output_type": "display_data"
    }
   ],
   "source": [
    "from helpers.kernel_density_estimation import summation\n",
    "summation.show()"
   ]
  },
  {
   "cell_type": "code",
   "execution_count": 4,
   "metadata": {
    "hide_input": true
   },
   "outputs": [
    {
     "data": {
      "application/vnd.jupyter.widget-view+json": {
       "model_id": "a2c0fa624bb14d738ed3644b04d5a2c7",
       "version_major": 2,
       "version_minor": 0
      },
      "text/plain": [
       "Play(value=1, interval=200, max=50, min=1)"
      ]
     },
     "metadata": {},
     "output_type": "display_data"
    },
    {
     "data": {
      "application/vnd.jupyter.widget-view+json": {
       "model_id": "0a1253ca72924420b0b6ca1d1d2396ad",
       "version_major": 2,
       "version_minor": 0
      },
      "text/plain": [
       "Output()"
      ]
     },
     "metadata": {},
     "output_type": "display_data"
    }
   ],
   "source": [
    "from helpers.kernel_density_estimation import convolution\n",
    "convolution.show()"
   ]
  },
  {
   "cell_type": "markdown",
   "metadata": {},
   "source": [
    "###### 練習問題\n",
    "\n",
    "データセット`tip`の分布をバンド幅 0.5 のガウシアンカーネルで推定し、得られた確率密度のグラフを表示する。"
   ]
  },
  {
   "cell_type": "code",
   "execution_count": 5,
   "metadata": {
    "hide_input": true
   },
   "outputs": [
    {
     "data": {
      "text/plain": [
       "0      1.01\n",
       "1      1.66\n",
       "       ... \n",
       "242    1.75\n",
       "243    3.00\n",
       "Name: tip, Length: 244, dtype: float64"
      ]
     },
     "metadata": {},
     "output_type": "display_data"
    }
   ],
   "source": [
    "tip = sns.load_dataset('tips')['tip']\n",
    "display(tip)"
   ]
  },
  {
   "cell_type": "code",
   "execution_count": null,
   "metadata": {
    "solution2": "hidden",
    "solution2_first": true
   },
   "outputs": [],
   "source": []
  },
  {
   "cell_type": "code",
   "execution_count": 6,
   "metadata": {
    "solution2": "hidden"
   },
   "outputs": [
    {
     "data": {
      "image/png": "[encoded data removed]",
      "text/plain": [
       "<Figure size 432x288 with 1 Axes>"
      ]
     },
     "metadata": {
      "needs_background": "light"
     },
     "output_type": "display_data"
    }
   ],
   "source": [
    "n = tip.size\n",
    "h = 0.5\n",
    "distributions = stats.norm(loc=tip, scale=h)\n",
    "x = np.linspace(tip.min(), tip.max(), 100).reshape((-1, 1))\n",
    "plt.plot(x, distributions.pdf(x).sum(axis=1) / n / h)\n",
    "plt.show()"
   ]
  },
  {
   "cell_type": "markdown",
   "metadata": {},
   "source": [
    "## Pythonでのカーネル密度推定実行方法\n",
    "---\n",
    "密度関数を求めたい場合には`scipy.stats.gaussian_kde`または`statsmodels.nonparametric.kde`を使用する。  \n",
    "グラフ表示だけなら、`pandas.DataFrame.plot.density`または`seaborn.kdeplot`を使用する。\n",
    "\n",
    "カーネル密度推定はヒストグラムより滑らかで分布を把握しやすいが、**バンド幅の設定によって形は変わる**。`scipy`や`statsmodels`ではバンド幅を自動設定してくれるが、一応注意しておく。"
   ]
  },
  {
   "cell_type": "code",
   "execution_count": 7,
   "metadata": {},
   "outputs": [],
   "source": [
    "pd.DataFrame.plot.density??"
   ]
  },
  {
   "cell_type": "code",
   "execution_count": 8,
   "metadata": {},
   "outputs": [],
   "source": [
    "sns.kdeplot??"
   ]
  },
  {
   "cell_type": "code",
   "execution_count": 9,
   "metadata": {},
   "outputs": [
    {
     "data": {
      "image/png": "[encoded data removed]",
      "text/plain": [
       "<Figure size 432x288 with 1 Axes>"
      ]
     },
     "metadata": {
      "needs_background": "light"
     },
     "output_type": "display_data"
    }
   ],
   "source": [
    "tip.plot.density()\n",
    "plt.show()"
   ]
  },
  {
   "cell_type": "code",
   "execution_count": 10,
   "metadata": {},
   "outputs": [
    {
     "data": {
      "image/png": "[encoded data removed]",
      "text/plain": [
       "<Figure size 432x288 with 1 Axes>"
      ]
     },
     "metadata": {
      "needs_background": "light"
     },
     "output_type": "display_data"
    }
   ],
   "source": [
    "sns.kdeplot(tip)\n",
    "plt.show()"
   ]
  }
 ],
 "metadata": {
  "kernelspec": {
   "display_name": "Python 3",
   "language": "python",
   "name": "python3"
  },
  "language_info": {
   "codemirror_mode": {
    "name": "ipython",
    "version": 3
   },
   "file_extension": ".py",
   "mimetype": "text/x-python",
   "name": "python",
   "nbconvert_exporter": "python",
   "pygments_lexer": "ipython3",
   "version": "3.6.8"
  },
  "toc": {
   "base_numbering": 1,
   "nav_menu": {},
   "number_sections": true,
   "sideBar": true,
   "skip_h1_title": true,
   "title_cell": "Table of Contents",
   "title_sidebar": "Contents",
   "toc_cell": false,
   "toc_position": {},
   "toc_section_display": true,
   "toc_window_display": true
  },
  "varInspector": {
   "cols": {
    "lenName": 16,
    "lenType": 16,
    "lenVar": 40
   },
   "kernels_config": {
    "python": {
     "delete_cmd_postfix": "",
     "delete_cmd_prefix": "del ",
     "library": "var_list.py",
     "varRefreshCmd": "print(var_dic_list())"
    },
    "r": {
     "delete_cmd_postfix": ") ",
     "delete_cmd_prefix": "rm(",
     "library": "var_list.r",
     "varRefreshCmd": "cat(var_dic_list()) "
    }
   },
   "types_to_exclude": [
    "module",
    "function",
    "builtin_function_or_method",
    "instance",
    "_Feature"
   ],
   "window_display": false
  }
 },
 "nbformat": 4,
 "nbformat_minor": 2
}
